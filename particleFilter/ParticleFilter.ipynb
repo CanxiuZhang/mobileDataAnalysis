{
 "cells": [
  {
   "cell_type": "markdown",
   "metadata": {},
   "source": [
    "# Particle Filter for Indoor Positioning using IMU Measurements\n",
    "In this assignment, you will implement the particle filter (PF) framework that incorporates IMU measurements in the motion model and a given map to determine the locations of a moving person in indoor environments. Unlike the general PF introduced in the class, there is no observation from other sensing modalities. As such, state updates are the results of motions and all particles that *fall within the confinement of the corridors are assumed to have (non-zero) equal probabilities*.\n",
    "\n",
    "- The <font color=\"blue\">pdr.py</font> file provided contains a number of useful functions for step counting, heading estimation from acc-mag readings and heading change estimation from gyro. The first two were essentially what you implemented from the previous homework. Take a look at the code before you start the project. To use it, put it in the local directory where your code runs."
   ]
  },
  {
   "cell_type": "code",
   "execution_count": 1,
   "metadata": {
    "collapsed": true
   },
   "outputs": [],
   "source": [
    "import numpy as np\n",
    "import ianus\n",
    "import matplotlib.pyplot as plt\n",
    "import matplotlib.patches as patches\n",
    "import matplotlib.colors as colors\n",
    "import matplotlib.cm as cmx\n",
    "import warnings\n",
    "import pdr \n",
    "import math"
   ]
  },
  {
   "cell_type": "markdown",
   "metadata": {},
   "source": [
    "## 1. Read map data\n",
    "In the dataset, map data is defined in OSM format, which represents a cooridoor as multipolygon (one enclosed outer polygon, and a number of inner polygons). OSM represents map data in XML. \n",
    "More details on OSM format can be found at http://wiki.openstreetmap.org/wiki/OSM_XML. <a href=\"https://josm.openstreetmap.de\">JOSM</a> is a Java based tool to manipulate OSM files. Basic parsing of OSM in python can be found at https://github.com/dezhin/osmread/tree/master/osmread"
   ]
  },
  {
   "cell_type": "code",
   "execution_count": 2,
   "metadata": {
    "collapsed": true
   },
   "outputs": [],
   "source": [
    "def contain_point(pos, multipolygon):\n",
    "    \"\"\"\n",
    "    Test if a 2D point is within the boundaries of multi-polygon.\n",
    "    Inputs: \n",
    "        - pos: 1-D array \n",
    "        - multipolygon: a dictionary contains the outer and inner boundaries of a multi-polygon\n",
    "    \"\"\"\n",
    "    if multipolygon['outer'].contains_point(pos) == False:\n",
    "        return False\n",
    "\n",
    "    for w in multipolygon['inner']:\n",
    "        if w.contains_point(pos):\n",
    "            return False\n",
    "    \n",
    "    return True\n",
    "\n",
    "def contain_points(pts, multipolygon):\n",
    "    \"\"\"\n",
    "    Test if multiple points are within the boundaries of multi-polygon.\n",
    "    Inputs: \n",
    "        - pts: Nx2 array of N points\n",
    "        - multipolygon: a dictionary contains the outer and inner boundaries of a multi-polygon\n",
    "    \"\"\"\n",
    "    \n",
    "    y = []\n",
    "    for i in range(pts.shape[0]):\n",
    "        y.append(contain_point(pts[i,:], multipolygon))\n",
    "    return y\n",
    "\n",
    "def plot_multipolygon(ax, multipolygon, markers=None):\n",
    "    \"\"\"Plot a multipolygon. Pass as the first argument the handle of the figure \n",
    "    \"\"\"\n",
    "\n",
    "    p = multipolygon['outer']\n",
    "    xy_lim = np.array([p.vertices.min(axis=0) - 2, p.vertices.max(axis=0) + 2])\n",
    "    ax.set_xlim(xy_lim[0, 0], xy_lim[1, 0])\n",
    "    ax.set_ylim(xy_lim[0, 1], xy_lim[1, 1])\n",
    "\n",
    "    patch = patches.PathPatch(p, facecolor='orange', lw=2)\n",
    "    ax.add_patch(patch)\n",
    "\n",
    "    for w in multipolygon['inner']:\n",
    "        patch = patches.PathPatch(w, facecolor='white', lw=2)\n",
    "        ax.add_patch(patch)\n",
    "\n",
    "    if markers is not None:\n",
    "        for m in markers:\n",
    "            for key, value in markers.items():\n",
    "                ax.plot(value[0], value[1], 'b.')"
   ]
  },
  {
   "cell_type": "markdown",
   "metadata": {
    "collapsed": true
   },
   "source": [
    "### Read and display the floor plan and makers location\n",
    "- <font color=\"blue\">read_osm_data</font> returns the nodes/vertices, pathways/edges, marker locations and a dict structure called multipolygon,\n",
    "which specifies the boundary of the corridor. A multi-polygon has a single outer boundary and multiple inner boundaries. "
   ]
  },
  {
   "cell_type": "code",
   "execution_count": 3,
   "metadata": {
    "collapsed": false
   },
   "outputs": [
    {
     "data": {
      "image/png": "[encoded data removed]",
      "text/plain": [
       "<matplotlib.figure.Figure at 0x112452fd0>"
      ]
     },
     "metadata": {},
     "output_type": "display_data"
    }
   ],
   "source": [
    "datapath = './dataset/'\n",
    "origin = [43.2584319, -79.9213713] # coordinates of (0,0) in our map\n",
    "\n",
    "nodes, markers, ways, multipolygon = ianus.reader.read_osm_data(datapath + 'map.osm', origin)\n",
    "fig=plt.figure('1')\n",
    "ax = fig.add_subplot(111)\n",
    "plot_multipolygon(ax, multipolygon, markers)\n",
    "plt.show()"
   ]
  },
  {
   "cell_type": "markdown",
   "metadata": {},
   "source": [
    "\n",
    "## 2. Read sensor data\n",
    "- X_raw_acc: accelerometer data sampled at 100Hz. Nx4 matrix, where N is the # of samples, each row is of [timestamp in ms, acc_x, acc_y, acc_z]\n",
    "- X_raw_mag: magnetic data sampled at 100Hz. Nx4 matrix, where N is the # of samples, each row is of [timestamp in ms, mag_x, mag_y, mag_z]\n",
    "- X_raw_gyro: accelerometer data sampled at 100Hz. Nx4 matrix, where N is the # of samples, each row is of [timestamp in ms, gyro_x, gyro_y, gyro_z]\n",
    "- Y: ground truth locations. Mx3 matrix, where M is the number of marker locations, each row is of [timestamp in ms, x_coor, y_coor]\n",
    "\n",
    "**Note all sensor data are in device frame**"
   ]
  },
  {
   "cell_type": "code",
   "execution_count": 44,
   "metadata": {
    "collapsed": false
   },
   "outputs": [],
   "source": [
    "X_raw = ianus.reader.read_imu_data(datapath+'imu.pbf')\n",
    "X_raw_acc = np.array(X_raw['acc'])\n",
    "X_raw_mag = np.array(X_raw['mag'])\n",
    "X_raw_gyro = np.array(X_raw['gyro'])\n",
    "\n",
    "Y = np.zeros((len(markers), 3))\n",
    "Y[:,0] = np.array(ianus.reader.read_marker_data(datapath+'marker.pbf'))[:,0]\n",
    "for key, value in markers.items():\n",
    "    Y[int(key)-1,1:4] = value\n",
    "#print(\"Y\", Y)\n",
    "#print(\"type of Y\", type(Y))\n",
    "#print(\"shape of Y\", Y.shape)\n",
    "timeinterval = Y[54,0]-Y[0,0]\n",
    "#print(\"timeinterval\", timeinterval)\n",
    "    \n",
    "# sampling frequency\n",
    "fs = 100\n",
    "fc = 4.4 ####how to choose cut-off freq\n",
    "acc = np.transpose(np.array([X_raw_acc[:,1],X_raw_acc[:,2],X_raw_acc[:,3]]))\n",
    "#print(\"acc.shape\", acc.shape)\n",
    "#print(\"type of X_raw_acc\", type(X_raw_acc))"
   ]
  },
  {
   "cell_type": "markdown",
   "metadata": {},
   "source": [
    "## 3. Step detection\n",
    "Use <font color=\"blue\">pdr.count_step(...)</font> for step counting. Vary the arguments and see the results. The data is collected from a person with light steps. Over the course of the data collection, 203 steps were made. "
   ]
  },
  {
   "cell_type": "code",
   "execution_count": 45,
   "metadata": {
    "collapsed": false
   },
   "outputs": [
    {
     "name": "stdout",
     "output_type": "stream",
     "text": [
      "Number of steps detected: 203\n"
     ]
    }
   ],
   "source": [
    "idx,acc_lpf,acc_mag = pdr.count_step(acc, fs, fc, thres=0.21) #YOUR CODE. 1-line\n",
    "\n",
    "print('Number of steps detected: %d' % idx.shape)\n",
    "\n",
    "idx = np.append([0],idx) #add the starting point\n",
    "#print(\"idx\",idx)\n",
    "\n",
    "plt.figure(figsize=(18, 16), dpi= 80, facecolor='w', edgecolor='k')\n",
    "plt.plot(X_raw_acc[:,0], acc_lpf,'r-')\n",
    "plt.plot(X_raw_acc[idx,0], acc_lpf[idx],'bx')\n",
    "plt.xlim((X_raw_acc[0,0], X_raw_acc[4000,0]))\n",
    "plt.xlabel('Time (ms)')\n",
    "plt.ylabel('Filtered Acc Mag')\n",
    "plt.show()"
   ]
  },
  {
   "cell_type": "markdown",
   "metadata": {},
   "source": [
    "# 4. Heading Estimation\n",
    "We implement a complementary filter for heading estimation. In this experiment, we assume that device y-axis is aligned with the heading direction. Recall that there are two parts in the complementary filter: 1) heading estimation using accelerometer and magnometer readings, and 2) heading using gyro assuming the initial heading is known. \n",
    "- In <font color=\"blue\">pdr.py</font>, we have provided three functions that you can use: EstimatePoseChangeFromGyro, EstimateHeadingAccMag, fuseTwoHeadingsXY. \n",
    "- **Implement the complementary filter** by combining the estimate from gyro and the estimate from magnetnometer and accelerometer readigns. \n",
    "\n",
    "You can assume the initial heading is known to be [0,1,0] in the global frame. "
   ]
  },
  {
   "cell_type": "code",
   "execution_count": 46,
   "metadata": {
    "collapsed": true
   },
   "outputs": [],
   "source": [
    "def ComplementaryFilter(init, acc, gyro, mag, interval, weight=0.9):\n",
    "    \"\"\"\n",
    "    Complementary filter for heading estimation\n",
    "    Inputs:\n",
    "        - init: 1-D array for initial heading; if None, use the one computed from acc & mag as initial\n",
    "        - acc, gyro, mag: Nx3 matrices for accelerometer, gyro and magnetnometer readings\n",
    "        - interval: sampling interval  (=1/fs)\n",
    "        - weight: the weight for the heading inferred by gyro and (1-weight) for heading inferred by acc-mag.\n",
    "    \n",
    "    Output:\n",
    "        - headings: Nx3 vector for heading direction \n",
    "    \"\"\"\n",
    "\n",
    "    #YOUR CODE\n",
    "    num_samples = X_raw_acc.shape[0]\n",
    "    headings = np.zeros((num_samples,3))\n",
    "    headings[0,:] = init\n",
    "    for i in range(1, num_samples):\n",
    "        gyrRotation = pdr.EstimatePoseChangeFromGyro(gyro[i,:], interval)\n",
    "        #gyrHeadings = headings[i-1,:] + np.dot(gyrRotation,np.array([0, 1, 0]).reshape(3,1))\n",
    "        #gyrHeadings = np.dot(gyrRotation,np.array([0, 1, 0]).reshape(3,1))\n",
    "        #gyrRotation = np.delete(gyrRotation, 2)\n",
    "        gyrHeadings = np.dot(gyrRotation,headings[i-1,:].reshape(3,1))\n",
    "        accHeadings = pdr.EstimateHeadingAccMag(acc[i,:], mag[i,:])\n",
    "        #accHeadings = np.delete(accHeadings, 2)\n",
    "        headings[i,:] = pdr.fuseTwoHeadingsXY(gyrHeadings, accHeadings, weight)  \n",
    "    return headings\n",
    "\n"
   ]
  },
  {
   "cell_type": "markdown",
   "metadata": {},
   "source": [
    "### Compute and illustrate the headings\n",
    "- Call ComplementaryFilter\n",
    "- Illustrate the heading estimation in 2D. Start from marker '1'. Assume every sampling interval, the displacement is 0.5/fs m (this is purely for illustration purpose). \n",
    "- With proper weight parameters, the trajectory should be of the similar curve at the blue markers displayed in the floor plan\n",
    "\n",
    "**Note: the magnetometer reading is not calibrated in the dataset. It is expected that setting weight to be less 1 will result in large errors in  heading estimation. For final evaluation of the particle filter, the suggested value for the weight is 1. To verify the correctness of your implementation complementary filter, it is sufficient to demonstrate the effects of different weights.**"
   ]
  },
  {
   "cell_type": "code",
   "execution_count": 48,
   "metadata": {
    "collapsed": false
   },
   "outputs": [],
   "source": [
    "weight = 1\n",
    "init = [0,1,0]\n",
    "interval = 1/fs\n",
    "gyro = np.transpose(np.array([X_raw_gyro[:,1],X_raw_gyro[:,2],X_raw_gyro[:,3]]))\n",
    "mag = np.transpose(np.array([X_raw_mag[:,1],X_raw_mag[:,2],X_raw_mag[:,3]]))\n",
    "headings = ComplementaryFilter(init, acc, gyro, mag, interval, weight)#YOUR CODE 1-line using ComplementaryFilter\n",
    "\n",
    "num_samples = X_raw_acc.shape[0]\n",
    "disp = 1.5/fs #meter\n",
    "\n",
    "loc = np.zeros((num_samples, 3))\n",
    "loc[0,:] = np.append(markers['1'], [0])\n",
    "\n",
    "for i in range(1, num_samples):\n",
    "    loc[i,:] = loc[i-1,:] + disp*headings[i,:]\n",
    "\n",
    "plt.close(\"all\")\n",
    "fig = plt.figure(2)\n",
    "plt.plot(loc[:,0], loc[:,1], 'r.')\n",
    "plt.plot(loc[0,0], loc[0,1], 'b*')\n",
    "plt.show()"
   ]
  },
  {
   "cell_type": "markdown",
   "metadata": {},
   "source": [
    "## 5. Implement a Particle Filter class\n",
    "We wrap particle filter as a class. You need to complete its methods. \n",
    "- Assume the initial position is at marker '1'\n",
    "- All time stamps are in ms"
   ]
  },
  {
   "cell_type": "code",
   "execution_count": 173,
   "metadata": {
    "collapsed": false
   },
   "outputs": [],
   "source": [
    "# a particle filter for 2D \n",
    "\n",
    "class ParticleFilter2D :\n",
    "    \"\"\"\n",
    "    Initialize particle filter\n",
    "    Inputs: \n",
    "        - init_location: in 2D\n",
    "        - num_particles: max number of particles\n",
    "        - thres: resample threshold. If the total number of particles fall below num_particles*thres, resample\n",
    "        - s: seed\n",
    "    Output:\n",
    "        None\n",
    "    \"\"\"\n",
    "    def __init__(self, init_location, num_particles, mpolygon, thres = 0.5, s=0):\n",
    "    \n",
    "        self.N = num_particles\n",
    "        self.x = np.zeros(num_particles) + init_location[0]\n",
    "        self.y = np.zeros(num_particles) + init_location[1]\n",
    "        self.w = np.zeros(num_particles) + 1/self.N\n",
    "        self.thres = thres * num_particles #thres number: 1000\n",
    "        self.map = mpolygon\n",
    "        self.num = num_particles\n",
    "        np.random.seed(s) #generate same random number by using the same seed\n",
    "        int(self.N)\n",
    "        \"\"\"\n",
    "        self.N = 0\n",
    "        self.x = []\n",
    "        self.y = []\n",
    "        self.w = []\n",
    "        self.thres = thres * num_particles #thres number: 1000\n",
    "        self.map = mpolygon\n",
    "        self.num = num_particles\n",
    "        np.random.seed(s) #generate same random number by using the same seed\n",
    "        int(self.N)\n",
    "        exitFlag = True\n",
    "        while exitFlag:\n",
    "            x = np.random.uniform(0,60)\n",
    "            y = np.random.uniform(0,70)\n",
    "            if contain_point([x,y], self.map):\n",
    "                self.x = np.append(self.x, x)\n",
    "                self.y = np.append(self.y, y)\n",
    "                self.N += 1\n",
    "            if self.N == self.num:\n",
    "                self.w = np.zeros(self.num) + 1/self.N\n",
    "                exitFlag = False\n",
    "        print(\"random initialize\")\n",
    "        \"\"\"\n",
    "\n",
    "    \"\"\"\n",
    "    Prediction step\n",
    "    Inputs:\n",
    "        - dp: mean displayment in x, y (meter)\n",
    "        - dp_sigma: standard deviation of displament. The displacement is Gaussian distributed N(dp, dp_sigma)\n",
    "        - heading: 1-D array of heading in global frame\n",
    "        - heading_sigma: standard deviation of heading angle in radian. The heading direction can be uniformly sampled \n",
    "          from heading_sigma clock-wise and counter-clock-wise the angle according to the heading vector\n",
    "    Output:\n",
    "        None\n",
    "    \"\"\"\n",
    "\n",
    "    def predict(self, dp, dp_sigma, heading, heading_sigma):\n",
    "        int(self.N)\n",
    "        for i in range (0, self.N):\n",
    "            dp = np.random.normal(dp, dp_sigma)\n",
    "            theta = np.arccos(heading[0]) + np.random.uniform(-heading_sigma, heading_sigma)\n",
    "            #heading_x = heading[0] + np.random.uniform(-heading_sigma/2, heading_sigma/2)\n",
    "            #heading_y = heading[1] + np.random.uniform(-heading_sigma/2, heading_sigma/2)\n",
    "            self.x[i] += dp*np.cos(theta)\n",
    "            self.y[i] += dp*np.sin(theta)\n",
    "        \n",
    "    \"\"\"\n",
    "    Update step: if a particle is outside of the corridor, set its weights to zero. Normalize the weights so that the\n",
    "    sum weight is one. Resample if the number of particles drops below max number of particles x thres \n",
    "    \"\"\"\n",
    "    def update(self):\n",
    "        index = []\n",
    "        self.N = int(self.N)\n",
    "        for i in range (0, self.N):\n",
    "            if contain_point([self.x[i],self.y[i]], self.map):\n",
    "                self.w[i] = 1\n",
    "            else:\n",
    "                self.w[i] = 0\n",
    "                index = np.append(index, i)   \n",
    "                \n",
    "        \"\"\"\n",
    "        loc = np.reshape([self.x, self.y], (self.N, 2))\n",
    "        index = contain_points(loc,self.map)\n",
    "        \"\"\"\n",
    "        self.x = np.delete(self.x, index)\n",
    "        self.y = np.delete(self.y, index)\n",
    "        self.w = np.delete(self.w, index)\n",
    "        self.N = len(self.x)\n",
    "        #self.w = np.divide(self.w, self.N) #normailize\n",
    "        self.w = self.w/self.N\n",
    "        #print(\"self.N before resample\", self.N)\n",
    "        \n",
    "        if self.N == 0:\n",
    "            self.reinitialize()\n",
    "        elif self.N > 0 and self.N < self.thres:\n",
    "            self.resample()\n",
    "             \n",
    "    \"\"\"\n",
    "    Resample: regenerate particles according to the weights and multinomial distribution. If no particle left, \n",
    "    reinitialize.\n",
    "    \"\"\"\n",
    "    def resample(self):\n",
    "        #for i in range (0, self.thres*2):\n",
    "            #self.x[i] = np.mean(pf.x)\n",
    "            #self.y[i] = np.mean(pf.y)\n",
    "        #self.x = np.full((self.thres*2,1),np.mean(pf.x))\n",
    "        #self.y = np.full((self.thres*2,1),np.mean(pf.y))\n",
    "        #self.x = np.zeros(self.thres*2)+np.mean(self.x)\n",
    "        #self.y = np.zeros(self.thres*2)+np.mean(self.y)\n",
    "        #self.w = np.zeros(self.thres*2)+1\n",
    "        n = np.random.multinomial(self.num, self.w)\n",
    "        #print(\"length of n\", n.shape[0])\n",
    "        #print(\"n\", n)\n",
    "        x_rsp = []\n",
    "        y_rsp = []\n",
    "        for i in range(0, n.shape[0]):\n",
    "            for j in range(0, n[i]):\n",
    "                x_rsp = np.append(x_rsp, self.x[i])\n",
    "                y_rsp = np.append(y_rsp, self.y[i])\n",
    "        #print(\"type of x_rsp\", type(x_rsp))\n",
    "        #print(\"length of x_rsp\", len(x_rsp))\n",
    "        #print(\"x_rsp\", x_rsp)\n",
    "        self.x = x_rsp\n",
    "        self.y = y_rsp\n",
    "        #print(\"length of self.x\", len(self.x))\n",
    "        #print(\"length of self.y\", len(self.y))\n",
    "        self.N = self.num\n",
    "        self.w = np.zeros(self.num) + 1/self.N\n",
    "        #print(\"resample\")\n",
    "    \"\"\"\n",
    "    Reinitalize: randomly initalize max # of particles to be evently distributed in the corridor. \n",
    "    This is used either when you do not know the initial location or all particles die. \n",
    "    \"\"\"\n",
    "    def reinitialize(self):\n",
    "        exitFlag = True\n",
    "        while exitFlag:\n",
    "            x = np.random.uniform(0,60)\n",
    "            y = np.random.uniform(0,70)\n",
    "            if contain_point([x,y], self.map):\n",
    "                self.x = np.append(self.x, x)\n",
    "                self.y = np.append(self.y, y)\n",
    "                self.N += 1\n",
    "            if self.N == self.num:\n",
    "                self.w = np.zeros(self.num) + 1/self.N\n",
    "                exitFlag = False\n",
    "        print(\"reinitialize\")"
   ]
  },
  {
   "cell_type": "markdown",
   "metadata": {
    "collapsed": true
   },
   "source": [
    "## 6. Run the particle filter\n",
    "To display the filter execution step-by-step, set \n",
    "```python\n",
    "displayOn = True\n",
    "```\n",
    "The estimated locations are saved in guessed_loc"
   ]
  },
  {
   "cell_type": "code",
   "execution_count": 175,
   "metadata": {
    "collapsed": false
   },
   "outputs": [
    {
     "name": "stdout",
     "output_type": "stream",
     "text": [
      "Using matplotlib backend: MacOSX\n"
     ]
    }
   ],
   "source": [
    "%matplotlib\n",
    "mean_step_length = 0.78 #meter, average adult's step legnth is 31 in\n",
    "num_particle = 1500\n",
    "heading_error = np.pi/3#standard deviation of heading angle in radian\n",
    "thres = 0.66 #resample threshold\n",
    "displayOn = False\n",
    "\n",
    "if displayOn:\n",
    "    plt.close(\"all\")\n",
    "    plt.ion() #interactive mode\n",
    "    fig, ax = plt.subplots() #f: an instance of Figure; ax: array \n",
    "    #print(\"ax\", ax)\n",
    "    x, y = [],[]\n",
    "    plot_multipolygon(ax, multipolygon, markers)\n",
    "    sc = ax.scatter(x,y,zorder=3, cmap='k')\n",
    "    plt.xlim((0,60))\n",
    "    plt.ylim((0,70))\n",
    "\n",
    "guessed_loc = np.zeros((idx.shape[0],3))#idx.shape[0]: number of steps detected(203)\n",
    "guessed_loc[0,:] = Y[0,:]\n",
    "\n",
    "pf = ParticleFilter2D(Y[0,1:3], num_particle, multipolygon, thres)\n",
    "\n",
    "#print(\"total update time:\", idx.shape[0]-1)\n",
    "for i in range(1, idx.shape[0]): # range(1, 204) idx[0] = 0, #event = 203, iteration: 203  \n",
    "    step_interval = X_raw_acc[idx[i],0] - X_raw_acc[idx[i-1],0]\n",
    "    dp = mean_step_length/step_interval/fs*1000\n",
    "    \n",
    "    #print(\"in iteration:\", i)\n",
    "    for j in range(idx[i-1], idx[i]): \n",
    "        pf.N = int(pf.N)\n",
    "        #print(\"pf.N before prediction:\", pf.N)\n",
    "        pf.predict(dp, dp/3*np.sqrt(idx[i]-idx[i-1]), headings[j], heading_error)# headings: N*3\n",
    "        #print(\"predict number:\", j)\n",
    "    pf.update()\n",
    "    \"\"\"\n",
    "    ### predict and update in each step\n",
    "    theta = 0\n",
    "    for j in range(idx[i-1], idx[i]): \n",
    "        theta += np.arccos(headings[j][0])\n",
    "    theta = theta/(idx[i]-idx[i-1])+np.random.uniform(-2*heading_error, 2*heading_error)\n",
    "    print(\"theta\", theta)\n",
    "    headings[i] = [np.cos(theta), np.sin(theta), 0]\n",
    "    pf.predict(dp, dp/3*np.sqrt(idx[i]-idx[i-1]), headings[i], heading_error)\n",
    "    pf.update()\n",
    "    \"\"\"\n",
    "    guessed_loc[i,:] = [X_raw_acc[idx[i],0], np.mean(pf.x), np.mean(pf.y)]\n",
    "\n",
    "    if displayOn:\n",
    "        sc.set_offsets(np.c_[pf.x,pf.y])\n",
    "        fig.canvas.draw_idle()\n",
    "        plt.pause(0.0001)\n",
    "        \n",
    "        plt.ioff()"
   ]
  },
  {
   "cell_type": "markdown",
   "metadata": {},
   "source": [
    "### Evaluate the localization accuracy"
   ]
  },
  {
   "cell_type": "code",
   "execution_count": 176,
   "metadata": {
    "collapsed": false
   },
   "outputs": [
    {
     "name": "stdout",
     "output_type": "stream",
     "text": [
      "Mean location errors = 6.275984\n"
     ]
    }
   ],
   "source": [
    "error = []\n",
    "j = 1\n",
    "for i in range(1,Y.shape[0]):\n",
    "    while j < guessed_loc.shape[0]:\n",
    "        if (Y[i,0] < guessed_loc[j,0] and Y[i,0] >= guessed_loc[j-1,0]):\n",
    "            est_loc = (guessed_loc[j-1,1:3]*(Y[i,0] - guessed_loc[j-1,0]) +  \n",
    "            guessed_loc[j,1:3]*(guessed_loc[j,0] - Y[i,0]))/(guessed_loc[j,0] - guessed_loc[j-1,0])\n",
    "            error.append(np.linalg.norm(Y[i,1:3] - est_loc))\n",
    "            break\n",
    "        \n",
    "        j += 1\n",
    "\n",
    "error = np.array(error)\n",
    "print(\"Mean location errors = %f\"%np.mean(error))"
   ]
  },
  {
   "cell_type": "raw",
   "metadata": {},
   "source": []
  },
  {
   "cell_type": "markdown",
   "metadata": {},
   "source": [
    "## 7. Submission\n",
    "- Evaluate the effects of 1) weight in the complementary filter, 2) the max number of particles, 3) the heading error parameter, 4) random initalization vs known initial position and heading\n",
    "- In \"6. Run the particle filter\", we implement a version of PF where the prediction steps are done frequently for each sample (=10ms) while the update is performed when a step event is observed. Discuss the pros and cons of this approach.\n",
    "- (Optional) Implement a procedure where both prediction and update of the PF are done when a step occurs. Hint: 1) there is no need to modify the PF class, 2) You may need to determine the \"mean\" heading direction within a step \n",
    "- Include your ipynb code and your report in a directory under the gitlab project folder you previously shared with the instructor."
   ]
  },
  {
   "cell_type": "code",
   "execution_count": null,
   "metadata": {
    "collapsed": true
   },
   "outputs": [],
   "source": []
  }
 ],
 "metadata": {
  "kernelspec": {
   "display_name": "Python 3",
   "language": "python",
   "name": "python3"
  },
  "language_info": {
   "codemirror_mode": {
    "name": "ipython",
    "version": 3
   },
   "file_extension": ".py",
   "mimetype": "text/x-python",
   "name": "python",
   "nbconvert_exporter": "python",
   "pygments_lexer": "ipython3",
   "version": "3.6.0"
  }
 },
 "nbformat": 4,
 "nbformat_minor": 2
}
